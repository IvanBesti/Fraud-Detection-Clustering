{
 "cells": [
  {
   "cell_type": "markdown",
   "metadata": {
    "id": "fKADPWcFKlj3"
   },
   "source": [
    "# **1. Import Library**"
   ]
  },
  {
   "cell_type": "markdown",
   "metadata": {
    "id": "LgA3ERnVn84N"
   },
   "source": [
    "Pada tahap ini, Anda perlu mengimpor beberapa pustaka (library) Python yang dibutuhkan untuk analisis data dan pembangunan model machine learning."
   ]
  },
  {
   "cell_type": "code",
   "execution_count": 1,
   "metadata": {
    "id": "BlmvjLY9M4Yj"
   },
   "outputs": [],
   "source": [
    "#Type your code here\n",
    "import numpy as np\n",
    "import pandas as pd\n",
    "import matplotlib.pyplot as plt\n",
    "import seaborn as sns\n",
    "\n",
    "from sklearn.model_selection import train_test_split\n",
    "from sklearn.model_selection import GridSearchCV\n",
    "from sklearn.model_selection import cross_val_score\n",
    "from sklearn.decomposition import PCA\n",
    "from sklearn.pipeline import Pipeline\n",
    "from sklearn.naive_bayes import GaussianNB\n",
    "from sklearn.preprocessing import LabelEncoder, StandardScaler, MinMaxScaler, RobustScaler \n",
    "from sklearn.ensemble import RandomForestClassifier, ExtraTreesClassifier\n",
    "from sklearn.metrics import accuracy_score, f1_score, classification_report, confusion_matrix, precision_score, recall_score\n",
    "from sklearn.model_selection import RandomizedSearchCV\n",
    "from sklearn.feature_selection import SelectKBest, f_classif, mutual_info_classif\n",
    "from sklearn.model_selection import StratifiedKFold\n",
    "\n",
    "from sklearn.linear_model import LogisticRegression\n",
    "from sklearn.svm import SVC\n",
    "from sklearn.tree import DecisionTreeClassifier\n",
    "from sklearn.neighbors import KNeighborsClassifier"
   ]
  },
  {
   "cell_type": "markdown",
   "metadata": {
    "id": "f3YIEnAFKrKL"
   },
   "source": [
    "# **2. Memuat Dataset dari Hasil Clustering**"
   ]
  },
  {
   "cell_type": "markdown",
   "metadata": {
    "id": "Ey3ItwTen_7E"
   },
   "source": [
    "Memuat dataset hasil clustering dari file CSV ke dalam variabel DataFrame."
   ]
  },
  {
   "cell_type": "code",
   "execution_count": 2,
   "metadata": {
    "id": "GHCGNTyrM5fS"
   },
   "outputs": [
    {
     "data": {
      "text/html": [
       "<div>\n",
       "<style scoped>\n",
       "    .dataframe tbody tr th:only-of-type {\n",
       "        vertical-align: middle;\n",
       "    }\n",
       "\n",
       "    .dataframe tbody tr th {\n",
       "        vertical-align: top;\n",
       "    }\n",
       "\n",
       "    .dataframe thead th {\n",
       "        text-align: right;\n",
       "    }\n",
       "</style>\n",
       "<table border=\"1\" class=\"dataframe\">\n",
       "  <thead>\n",
       "    <tr style=\"text-align: right;\">\n",
       "      <th></th>\n",
       "      <th>TransactionID</th>\n",
       "      <th>AccountID</th>\n",
       "      <th>TransactionAmount</th>\n",
       "      <th>TransactionDate</th>\n",
       "      <th>TransactionType</th>\n",
       "      <th>Location</th>\n",
       "      <th>DeviceID</th>\n",
       "      <th>IP Address</th>\n",
       "      <th>MerchantID</th>\n",
       "      <th>Channel</th>\n",
       "      <th>CustomerAge</th>\n",
       "      <th>CustomerOccupation</th>\n",
       "      <th>TransactionDuration</th>\n",
       "      <th>LoginAttempts</th>\n",
       "      <th>AccountBalance</th>\n",
       "      <th>PreviousTransactionDate</th>\n",
       "      <th>Cluster</th>\n",
       "    </tr>\n",
       "  </thead>\n",
       "  <tbody>\n",
       "    <tr>\n",
       "      <th>0</th>\n",
       "      <td>TX000001</td>\n",
       "      <td>AC00128</td>\n",
       "      <td>14.09</td>\n",
       "      <td>2023-04-11 16:29:14</td>\n",
       "      <td>Debit</td>\n",
       "      <td>San Diego</td>\n",
       "      <td>D000380</td>\n",
       "      <td>162.198.218.92</td>\n",
       "      <td>M015</td>\n",
       "      <td>ATM</td>\n",
       "      <td>70.0</td>\n",
       "      <td>Doctor</td>\n",
       "      <td>81.0</td>\n",
       "      <td>1.0</td>\n",
       "      <td>5112.21</td>\n",
       "      <td>2024-11-04 08:08:08</td>\n",
       "      <td>3</td>\n",
       "    </tr>\n",
       "    <tr>\n",
       "      <th>1</th>\n",
       "      <td>TX000002</td>\n",
       "      <td>AC00455</td>\n",
       "      <td>376.24</td>\n",
       "      <td>2023-06-27 16:44:19</td>\n",
       "      <td>Debit</td>\n",
       "      <td>Houston</td>\n",
       "      <td>D000051</td>\n",
       "      <td>13.149.61.4</td>\n",
       "      <td>M052</td>\n",
       "      <td>ATM</td>\n",
       "      <td>68.0</td>\n",
       "      <td>Doctor</td>\n",
       "      <td>141.0</td>\n",
       "      <td>1.0</td>\n",
       "      <td>13758.91</td>\n",
       "      <td>2024-11-04 08:09:35</td>\n",
       "      <td>2</td>\n",
       "    </tr>\n",
       "    <tr>\n",
       "      <th>2</th>\n",
       "      <td>TX000003</td>\n",
       "      <td>AC00019</td>\n",
       "      <td>126.29</td>\n",
       "      <td>2023-07-10 18:16:08</td>\n",
       "      <td>Debit</td>\n",
       "      <td>Mesa</td>\n",
       "      <td>D000235</td>\n",
       "      <td>215.97.143.157</td>\n",
       "      <td>M009</td>\n",
       "      <td>Online</td>\n",
       "      <td>19.0</td>\n",
       "      <td>Student</td>\n",
       "      <td>56.0</td>\n",
       "      <td>1.0</td>\n",
       "      <td>1122.35</td>\n",
       "      <td>2024-11-04 08:07:04</td>\n",
       "      <td>1</td>\n",
       "    </tr>\n",
       "    <tr>\n",
       "      <th>3</th>\n",
       "      <td>TX000004</td>\n",
       "      <td>AC00070</td>\n",
       "      <td>184.50</td>\n",
       "      <td>2023-05-05 16:32:11</td>\n",
       "      <td>Debit</td>\n",
       "      <td>Raleigh</td>\n",
       "      <td>D000187</td>\n",
       "      <td>200.13.225.150</td>\n",
       "      <td>M002</td>\n",
       "      <td>Online</td>\n",
       "      <td>26.0</td>\n",
       "      <td>Student</td>\n",
       "      <td>25.0</td>\n",
       "      <td>1.0</td>\n",
       "      <td>8569.06</td>\n",
       "      <td>2024-11-04 08:09:06</td>\n",
       "      <td>3</td>\n",
       "    </tr>\n",
       "    <tr>\n",
       "      <th>4</th>\n",
       "      <td>TX000005</td>\n",
       "      <td>AC00411</td>\n",
       "      <td>13.45</td>\n",
       "      <td>2023-10-16 17:51:24</td>\n",
       "      <td>Credit</td>\n",
       "      <td>Atlanta</td>\n",
       "      <td>D000308</td>\n",
       "      <td>65.164.3.100</td>\n",
       "      <td>M091</td>\n",
       "      <td>Online</td>\n",
       "      <td>26.0</td>\n",
       "      <td>Student</td>\n",
       "      <td>198.0</td>\n",
       "      <td>1.0</td>\n",
       "      <td>7429.40</td>\n",
       "      <td>2024-11-04 08:06:39</td>\n",
       "      <td>0</td>\n",
       "    </tr>\n",
       "  </tbody>\n",
       "</table>\n",
       "</div>"
      ],
      "text/plain": [
       "  TransactionID AccountID  TransactionAmount      TransactionDate  \\\n",
       "0      TX000001   AC00128              14.09  2023-04-11 16:29:14   \n",
       "1      TX000002   AC00455             376.24  2023-06-27 16:44:19   \n",
       "2      TX000003   AC00019             126.29  2023-07-10 18:16:08   \n",
       "3      TX000004   AC00070             184.50  2023-05-05 16:32:11   \n",
       "4      TX000005   AC00411              13.45  2023-10-16 17:51:24   \n",
       "\n",
       "  TransactionType   Location DeviceID      IP Address MerchantID Channel  \\\n",
       "0           Debit  San Diego  D000380  162.198.218.92       M015     ATM   \n",
       "1           Debit    Houston  D000051     13.149.61.4       M052     ATM   \n",
       "2           Debit       Mesa  D000235  215.97.143.157       M009  Online   \n",
       "3           Debit    Raleigh  D000187  200.13.225.150       M002  Online   \n",
       "4          Credit    Atlanta  D000308    65.164.3.100       M091  Online   \n",
       "\n",
       "   CustomerAge CustomerOccupation  TransactionDuration  LoginAttempts  \\\n",
       "0         70.0             Doctor                 81.0            1.0   \n",
       "1         68.0             Doctor                141.0            1.0   \n",
       "2         19.0            Student                 56.0            1.0   \n",
       "3         26.0            Student                 25.0            1.0   \n",
       "4         26.0            Student                198.0            1.0   \n",
       "\n",
       "   AccountBalance PreviousTransactionDate  Cluster  \n",
       "0         5112.21     2024-11-04 08:08:08        3  \n",
       "1        13758.91     2024-11-04 08:09:35        2  \n",
       "2         1122.35     2024-11-04 08:07:04        1  \n",
       "3         8569.06     2024-11-04 08:09:06        3  \n",
       "4         7429.40     2024-11-04 08:06:39        0  "
      ]
     },
     "execution_count": 2,
     "metadata": {},
     "output_type": "execute_result"
    }
   ],
   "source": [
    "#Type your code here\n",
    "df = pd.read_csv(\"Dataset_clustering.csv\")\n",
    "df.head()"
   ]
  },
  {
   "cell_type": "code",
   "execution_count": 3,
   "metadata": {},
   "outputs": [
    {
     "name": "stdout",
     "output_type": "stream",
     "text": [
      "<class 'pandas.core.frame.DataFrame'>\n",
      "RangeIndex: 2267 entries, 0 to 2266\n",
      "Data columns (total 17 columns):\n",
      " #   Column                   Non-Null Count  Dtype  \n",
      "---  ------                   --------------  -----  \n",
      " 0   TransactionID            2267 non-null   object \n",
      " 1   AccountID                2267 non-null   object \n",
      " 2   TransactionAmount        2267 non-null   float64\n",
      " 3   TransactionDate          2267 non-null   object \n",
      " 4   TransactionType          2267 non-null   object \n",
      " 5   Location                 2267 non-null   object \n",
      " 6   DeviceID                 2267 non-null   object \n",
      " 7   IP Address               2267 non-null   object \n",
      " 8   MerchantID               2267 non-null   object \n",
      " 9   Channel                  2267 non-null   object \n",
      " 10  CustomerAge              2267 non-null   float64\n",
      " 11  CustomerOccupation       2267 non-null   object \n",
      " 12  TransactionDuration      2267 non-null   float64\n",
      " 13  LoginAttempts            2267 non-null   float64\n",
      " 14  AccountBalance           2267 non-null   float64\n",
      " 15  PreviousTransactionDate  2267 non-null   object \n",
      " 16  Cluster                  2267 non-null   int64  \n",
      "dtypes: float64(5), int64(1), object(11)\n",
      "memory usage: 301.2+ KB\n"
     ]
    }
   ],
   "source": [
    "df.info()"
   ]
  },
  {
   "cell_type": "code",
   "execution_count": 4,
   "metadata": {},
   "outputs": [
    {
     "name": "stdout",
     "output_type": "stream",
     "text": [
      "  TransactionID AccountID  TransactionAmount      TransactionDate  \\\n",
      "0      TX000001   AC00128              14.09  2023-04-11 16:29:14   \n",
      "1      TX000002   AC00455             376.24  2023-06-27 16:44:19   \n",
      "2      TX000003   AC00019             126.29  2023-07-10 18:16:08   \n",
      "3      TX000004   AC00070             184.50  2023-05-05 16:32:11   \n",
      "4      TX000005   AC00411              13.45  2023-10-16 17:51:24   \n",
      "\n",
      "   TransactionType  Location DeviceID      IP Address MerchantID  Channel  \\\n",
      "0                1        36  D000380  162.198.218.92       M015        0   \n",
      "1                1        15  D000051     13.149.61.4       M052        0   \n",
      "2                1        23  D000235  215.97.143.157       M009        2   \n",
      "3                1        33  D000187  200.13.225.150       M002        2   \n",
      "4                0         1  D000308    65.164.3.100       M091        2   \n",
      "\n",
      "   CustomerAge  CustomerOccupation  TransactionDuration  LoginAttempts  \\\n",
      "0         70.0                   0                 81.0            1.0   \n",
      "1         68.0                   0                141.0            1.0   \n",
      "2         19.0                   3                 56.0            1.0   \n",
      "3         26.0                   3                 25.0            1.0   \n",
      "4         26.0                   3                198.0            1.0   \n",
      "\n",
      "   AccountBalance PreviousTransactionDate  Cluster  \n",
      "0         5112.21     2024-11-04 08:08:08        3  \n",
      "1        13758.91     2024-11-04 08:09:35        2  \n",
      "2         1122.35     2024-11-04 08:07:04        1  \n",
      "3         8569.06     2024-11-04 08:09:06        3  \n",
      "4         7429.40     2024-11-04 08:06:39        0  \n"
     ]
    }
   ],
   "source": [
    "# Daftar kolom kategorikal yang akan dienkode\n",
    "categorical_columns = [\"TransactionType\", \"Location\", \"Channel\", \"CustomerOccupation\"]\n",
    "\n",
    "# Inisialisasi LabelEncoder untuk setiap kolom\n",
    "label_encoders = {}\n",
    "for col in categorical_columns:\n",
    "    le = LabelEncoder()\n",
    "    df[col] = le.fit_transform(df[col])  \n",
    "    label_encoders[col] = le  \n",
    "\n",
    "# Menampilkan beberapa baris pertama setelah encoding\n",
    "print(df.head())"
   ]
  },
  {
   "cell_type": "code",
   "execution_count": 5,
   "metadata": {},
   "outputs": [],
   "source": [
    "# drop kolom yang tidak diperlukan\n",
    "df = df.drop(columns=['TransactionID', 'MerchantID', 'AccountID', 'DeviceID', 'IP Address', 'DeviceID', 'PreviousTransactionDate', 'TransactionDate'])"
   ]
  },
  {
   "cell_type": "code",
   "execution_count": 6,
   "metadata": {},
   "outputs": [
    {
     "data": {
      "text/html": [
       "<div>\n",
       "<style scoped>\n",
       "    .dataframe tbody tr th:only-of-type {\n",
       "        vertical-align: middle;\n",
       "    }\n",
       "\n",
       "    .dataframe tbody tr th {\n",
       "        vertical-align: top;\n",
       "    }\n",
       "\n",
       "    .dataframe thead th {\n",
       "        text-align: right;\n",
       "    }\n",
       "</style>\n",
       "<table border=\"1\" class=\"dataframe\">\n",
       "  <thead>\n",
       "    <tr style=\"text-align: right;\">\n",
       "      <th></th>\n",
       "      <th>TransactionAmount</th>\n",
       "      <th>TransactionType</th>\n",
       "      <th>Location</th>\n",
       "      <th>Channel</th>\n",
       "      <th>CustomerAge</th>\n",
       "      <th>CustomerOccupation</th>\n",
       "      <th>TransactionDuration</th>\n",
       "      <th>LoginAttempts</th>\n",
       "      <th>AccountBalance</th>\n",
       "      <th>Cluster</th>\n",
       "    </tr>\n",
       "  </thead>\n",
       "  <tbody>\n",
       "    <tr>\n",
       "      <th>0</th>\n",
       "      <td>14.09</td>\n",
       "      <td>1</td>\n",
       "      <td>36</td>\n",
       "      <td>0</td>\n",
       "      <td>70.0</td>\n",
       "      <td>0</td>\n",
       "      <td>81.0</td>\n",
       "      <td>1.0</td>\n",
       "      <td>5112.21</td>\n",
       "      <td>3</td>\n",
       "    </tr>\n",
       "    <tr>\n",
       "      <th>1</th>\n",
       "      <td>376.24</td>\n",
       "      <td>1</td>\n",
       "      <td>15</td>\n",
       "      <td>0</td>\n",
       "      <td>68.0</td>\n",
       "      <td>0</td>\n",
       "      <td>141.0</td>\n",
       "      <td>1.0</td>\n",
       "      <td>13758.91</td>\n",
       "      <td>2</td>\n",
       "    </tr>\n",
       "    <tr>\n",
       "      <th>2</th>\n",
       "      <td>126.29</td>\n",
       "      <td>1</td>\n",
       "      <td>23</td>\n",
       "      <td>2</td>\n",
       "      <td>19.0</td>\n",
       "      <td>3</td>\n",
       "      <td>56.0</td>\n",
       "      <td>1.0</td>\n",
       "      <td>1122.35</td>\n",
       "      <td>1</td>\n",
       "    </tr>\n",
       "    <tr>\n",
       "      <th>3</th>\n",
       "      <td>184.50</td>\n",
       "      <td>1</td>\n",
       "      <td>33</td>\n",
       "      <td>2</td>\n",
       "      <td>26.0</td>\n",
       "      <td>3</td>\n",
       "      <td>25.0</td>\n",
       "      <td>1.0</td>\n",
       "      <td>8569.06</td>\n",
       "      <td>3</td>\n",
       "    </tr>\n",
       "    <tr>\n",
       "      <th>4</th>\n",
       "      <td>13.45</td>\n",
       "      <td>0</td>\n",
       "      <td>1</td>\n",
       "      <td>2</td>\n",
       "      <td>26.0</td>\n",
       "      <td>3</td>\n",
       "      <td>198.0</td>\n",
       "      <td>1.0</td>\n",
       "      <td>7429.40</td>\n",
       "      <td>0</td>\n",
       "    </tr>\n",
       "  </tbody>\n",
       "</table>\n",
       "</div>"
      ],
      "text/plain": [
       "   TransactionAmount  TransactionType  Location  Channel  CustomerAge  \\\n",
       "0              14.09                1        36        0         70.0   \n",
       "1             376.24                1        15        0         68.0   \n",
       "2             126.29                1        23        2         19.0   \n",
       "3             184.50                1        33        2         26.0   \n",
       "4              13.45                0         1        2         26.0   \n",
       "\n",
       "   CustomerOccupation  TransactionDuration  LoginAttempts  AccountBalance  \\\n",
       "0                   0                 81.0            1.0         5112.21   \n",
       "1                   0                141.0            1.0        13758.91   \n",
       "2                   3                 56.0            1.0         1122.35   \n",
       "3                   3                 25.0            1.0         8569.06   \n",
       "4                   3                198.0            1.0         7429.40   \n",
       "\n",
       "   Cluster  \n",
       "0        3  \n",
       "1        2  \n",
       "2        1  \n",
       "3        3  \n",
       "4        0  "
      ]
     },
     "execution_count": 6,
     "metadata": {},
     "output_type": "execute_result"
    }
   ],
   "source": [
    "# Menampilkan tipe data terbaru untuk verifikasi\n",
    "df.head()"
   ]
  },
  {
   "cell_type": "markdown",
   "metadata": {
    "id": "KkPem5eWL2UP"
   },
   "source": [
    "# **3. Data Splitting**"
   ]
  },
  {
   "cell_type": "markdown",
   "metadata": {
    "id": "YYj1rl_JNI9Y"
   },
   "source": [
    "Tahap Data Splitting bertujuan untuk memisahkan dataset menjadi dua bagian: data latih (training set) dan data uji (test set)."
   ]
  },
  {
   "cell_type": "code",
   "execution_count": 7,
   "metadata": {
    "id": "OubAW-7ONKVj"
   },
   "outputs": [
    {
     "name": "stdout",
     "output_type": "stream",
     "text": [
      "Training set: (1813, 9) (1813,)\n",
      "Testing set: (454, 9) (454,)\n"
     ]
    }
   ],
   "source": [
    "# Pisahkan fitur (X) dan label (y)\n",
    "X = df.drop(columns=['Cluster'])  \n",
    "y = df['Cluster']\n",
    "\n",
    "# Bagi dataset menjadi training dan testing set (80% train, 20% test) dengan stratifikasi\n",
    "X_train, X_test, y_train, y_test = train_test_split(X, y, test_size=0.2, random_state=42, stratify=y)\n",
    "\n",
    "# Standarisasi dengan RobustScaler untuk menangani outlier\n",
    "scaler = RobustScaler()\n",
    "X_train_scaled = scaler.fit_transform(X_train)\n",
    "X_test_scaled = scaler.transform(X_test)\n",
    "\n",
    "# Cek ukuran dataset setelah dibagi\n",
    "print(\"Training set:\", X_train.shape, y_train.shape)\n",
    "print(\"Testing set:\", X_test.shape, y_test.shape)"
   ]
  },
  {
   "cell_type": "markdown",
   "metadata": {
    "id": "IVPbB03CMhTT"
   },
   "source": [
    "# **4. Membangun Model Klasifikasi**\n"
   ]
  },
  {
   "cell_type": "markdown",
   "metadata": {
    "id": "Ned1pL9zMmBK"
   },
   "source": [
    "## **a. Membangun Model Klasifikasi**"
   ]
  },
  {
   "cell_type": "markdown",
   "metadata": {
    "id": "WAWzPOE4Nkti"
   },
   "source": [
    "Setelah memilih algoritma klasifikasi yang sesuai, langkah selanjutnya adalah melatih model menggunakan data latih.\n",
    "\n",
    "Berikut adalah rekomendasi tahapannya.\n",
    "1. Pilih algoritma klasifikasi yang sesuai, seperti Logistic Regression, Decision Tree, Random Forest, atau K-Nearest Neighbors (KNN).\n",
    "2. Latih model menggunakan data latih."
   ]
  },
  {
   "cell_type": "code",
   "execution_count": 8,
   "metadata": {},
   "outputs": [],
   "source": [
    "# Gunakan standarisasi untuk semua model\n",
    "X_train_final, X_test_final = X_train_scaled, X_test_scaled"
   ]
  },
  {
   "cell_type": "code",
   "execution_count": 9,
   "metadata": {
    "id": "4JYxBe87NLDk"
   },
   "outputs": [
    {
     "name": "stdout",
     "output_type": "stream",
     "text": [
      "\n",
      "Model Logistic Regression telah dilatih menggunakan data train.\n",
      "Classification Report untuk data train Logistic Regression:\n",
      "\n",
      "              precision    recall  f1-score   support\n",
      "\n",
      "           0       0.93      1.00      0.96       454\n",
      "           1       0.94      0.90      0.92       469\n",
      "           2       0.95      0.89      0.92       469\n",
      "           3       0.94      0.98      0.96       421\n",
      "\n",
      "    accuracy                           0.94      1813\n",
      "   macro avg       0.94      0.94      0.94      1813\n",
      "weighted avg       0.94      0.94      0.94      1813\n",
      "\n",
      "--------------------------------------------------\n",
      "\n",
      "Model SVM telah dilatih menggunakan data train.\n",
      "Classification Report untuk data train SVM:\n",
      "\n",
      "              precision    recall  f1-score   support\n",
      "\n",
      "           0       0.98      0.98      0.98       454\n",
      "           1       0.98      0.97      0.98       469\n",
      "           2       0.97      0.98      0.97       469\n",
      "           3       0.99      0.98      0.98       421\n",
      "\n",
      "    accuracy                           0.98      1813\n",
      "   macro avg       0.98      0.98      0.98      1813\n",
      "weighted avg       0.98      0.98      0.98      1813\n",
      "\n",
      "--------------------------------------------------\n",
      "\n",
      "Model Extra Trees telah dilatih menggunakan data train.\n",
      "Classification Report untuk data train Extra Trees:\n",
      "\n",
      "              precision    recall  f1-score   support\n",
      "\n",
      "           0       1.00      1.00      1.00       454\n",
      "           1       1.00      1.00      1.00       469\n",
      "           2       1.00      1.00      1.00       469\n",
      "           3       1.00      1.00      1.00       421\n",
      "\n",
      "    accuracy                           1.00      1813\n",
      "   macro avg       1.00      1.00      1.00      1813\n",
      "weighted avg       1.00      1.00      1.00      1813\n",
      "\n",
      "--------------------------------------------------\n",
      "\n",
      "Model K-Nearest Neighbors telah dilatih menggunakan data train.\n",
      "Classification Report untuk data train K-Nearest Neighbors:\n",
      "\n",
      "              precision    recall  f1-score   support\n",
      "\n",
      "           0       0.88      0.91      0.90       454\n",
      "           1       0.77      0.86      0.81       469\n",
      "           2       0.82      0.77      0.79       469\n",
      "           3       0.92      0.85      0.89       421\n",
      "\n",
      "    accuracy                           0.85      1813\n",
      "   macro avg       0.85      0.85      0.85      1813\n",
      "weighted avg       0.85      0.85      0.85      1813\n",
      "\n",
      "--------------------------------------------------\n",
      "\n",
      "Model Naïve Bayes telah dilatih menggunakan data train.\n",
      "Classification Report untuk data train Naïve Bayes:\n",
      "\n",
      "              precision    recall  f1-score   support\n",
      "\n",
      "           0       1.00      1.00      1.00       454\n",
      "           1       1.00      1.00      1.00       469\n",
      "           2       1.00      1.00      1.00       469\n",
      "           3       1.00      1.00      1.00       421\n",
      "\n",
      "    accuracy                           1.00      1813\n",
      "   macro avg       1.00      1.00      1.00      1813\n",
      "weighted avg       1.00      1.00      1.00      1813\n",
      "\n",
      "--------------------------------------------------\n"
     ]
    }
   ],
   "source": [
    "# Model\n",
    "models = {\n",
    "    \"Logistic Regression\": LogisticRegression(C=0.1, penalty=\"l2\"),\n",
    "    \"SVM\": SVC(kernel=\"rbf\", C=1.0, gamma=\"scale\"),\n",
    "    \"Extra Trees\": ExtraTreesClassifier(n_estimators=100, max_depth=20, random_state=42),\n",
    "    \"K-Nearest Neighbors\": KNeighborsClassifier(n_neighbors=7),\n",
    "    \"Naïve Bayes\": GaussianNB()\n",
    "}\n",
    "\n",
    "# Gunakan standarisasi untuk semua model\n",
    "X_train_final, X_test_final = X_train_scaled, X_test_scaled\n",
    "\n",
    "# Training & Evaluasi pada Data Train\n",
    "for name, model in models.items():\n",
    "    # Training model\n",
    "    model.fit(X_train_final, y_train)\n",
    "    \n",
    "    # Prediksi pada data train\n",
    "    y_train_pred = model.predict(X_train_final)\n",
    "\n",
    "    # Evaluasi pada data train\n",
    "    print(f\"\\nModel {name} telah dilatih menggunakan data train.\")\n",
    "    print(f\"Classification Report untuk data train {name}:\\n\")\n",
    "    print(classification_report(y_train, y_train_pred, zero_division=1))\n",
    "    print(\"-\" * 50)"
   ]
  },
  {
   "cell_type": "markdown",
   "metadata": {
    "id": "seYoHNY3XU1y"
   },
   "source": [
    "Tulis narasi atau penjelasan algoritma yang Anda gunakan."
   ]
  },
  {
   "cell_type": "markdown",
   "metadata": {},
   "source": [
    "### **Penjelasan Algoritma yang Digunakan**  \n",
    "\n",
    "1. **Logistic Regression**  \n",
    "   Logistic Regression adalah algoritma klasifikasi yang menggunakan fungsi logistik untuk mengubah hasil regresi linear menjadi probabilitas. Cocok untuk data yang linear, algoritma ini sering digunakan dalam klasifikasi biner dan multikelas dengan pendekatan seperti **one-vs-rest (OvR)**.  \n",
    "\n",
    "2. **Support Vector Machine (SVM)**  \n",
    "   SVM mencari **hyperplane** terbaik untuk memisahkan kelas dengan margin maksimal. Jika data tidak terpisah secara linear, SVM menggunakan **kernel trick** seperti **RBF** untuk meningkatkan pemisahan. Model ini lebih tahan terhadap overfitting dibanding Decision Tree.  \n",
    "\n",
    "3. **Extra Trees (Extremely Randomized Trees)**  \n",
    "   Extra Trees adalah metode **ensemble learning** yang mirip dengan Random Forest tetapi menggunakan **randomness lebih tinggi** dalam pemilihan fitur dan pemisahan node. Hal ini membuat model lebih **tahan terhadap overfitting** dan sering kali lebih cepat dalam pelatihan. Dengan pendekatan ini, Extra Trees mampu menghasilkan prediksi yang **lebih stabil dan generalizable** terutama pada dataset dengan banyak fitur.    \n",
    "\n",
    "4. **K-Nearest Neighbors (KNN)**  \n",
    "   KNN mengklasifikasikan data berdasarkan mayoritas kelas dari **K tetangga terdekat** menggunakan metrik jarak seperti **Euclidean Distance**. Model ini sederhana namun dapat menjadi lambat pada dataset besar dan sensitif terhadap pemilihan nilai **K**.  \n",
    "\n",
    "5. **Naïve Bayes**  \n",
    "   Naïve Bayes adalah algoritma berbasis **Teorema Bayes** yang mengasumsikan fitur dalam dataset saling **independen**. Meskipun asumsi ini jarang benar, model ini cepat, efisien, dan sering digunakan dalam klasifikasi teks seperti **spam detection**.  "
   ]
  },
  {
   "cell_type": "markdown",
   "metadata": {
    "id": "ergzChZFEL-O"
   },
   "source": [
    "## **b. Evaluasi Model Klasifikasi**"
   ]
  },
  {
   "cell_type": "markdown",
   "metadata": {
    "id": "zOm68u-7NpLT"
   },
   "source": [
    "Berikut adalah **rekomendasi** tahapannya.\n",
    "1. Lakukan prediksi menggunakan data uji.\n",
    "2. Hitung metrik evaluasi seperti Accuracy dan F1-Score (Opsional: Precision dan Recall).\n",
    "3. Buat confusion matrix untuk melihat detail prediksi benar dan salah."
   ]
  },
  {
   "cell_type": "code",
   "execution_count": 10,
   "metadata": {
    "id": "tMq4QAssNLip"
   },
   "outputs": [
    {
     "name": "stdout",
     "output_type": "stream",
     "text": [
      "== Logistic Regression ==\n",
      "Logistic Regression Accuracy: 0.9317\n",
      "Logistic Regression F1-Score: 0.9311\n",
      "Logistic Regression Precision: 0.9327\n",
      "Logistic Regression Recall: 0.9317\n",
      "\n",
      "Classification Report:\n",
      "               precision    recall  f1-score   support\n",
      "\n",
      "           0       0.92      0.99      0.95       114\n",
      "           1       0.95      0.87      0.91       118\n",
      "           2       0.94      0.90      0.92       117\n",
      "           3       0.92      0.97      0.94       105\n",
      "\n",
      "    accuracy                           0.93       454\n",
      "   macro avg       0.93      0.93      0.93       454\n",
      "weighted avg       0.93      0.93      0.93       454\n",
      "\n"
     ]
    },
    {
     "data": {
      "image/png": "[encoded data removed]",
      "text/plain": [
       "<Figure size 600x400 with 2 Axes>"
      ]
     },
     "metadata": {},
     "output_type": "display_data"
    }
   ],
   "source": [
    "#Type your code here\n",
    "# Prediksi menggunakan Logistic Regression\n",
    "y_pred_logreg = models[\"Logistic Regression\"].predict(X_test_scaled)\n",
    "\n",
    "# Hitung metrik evaluasi\n",
    "accuracy = accuracy_score(y_test, y_pred_logreg)\n",
    "f1 = f1_score(y_test, y_pred_logreg, average='weighted')\n",
    "precision = precision_score(y_test, y_pred_logreg, average='weighted')\n",
    "recall = recall_score(y_test, y_pred_logreg, average='weighted')\n",
    "\n",
    "# Print hasil evaluasi\n",
    "print(\"== Logistic Regression ==\")\n",
    "print(f\"Logistic Regression Accuracy: {accuracy:.4f}\")\n",
    "print(f\"Logistic Regression F1-Score: {f1:.4f}\")\n",
    "print(f\"Logistic Regression Precision: {precision:.4f}\")\n",
    "print(f\"Logistic Regression Recall: {recall:.4f}\")\n",
    "print(\"\\nClassification Report:\\n\", classification_report(y_test, y_pred_logreg))\n",
    "\n",
    "# Confusion Matrix\n",
    "plt.figure(figsize=(6,4))\n",
    "sns.heatmap(confusion_matrix(y_test, y_pred_logreg), annot=True, fmt=\"d\", cmap=\"Blues\", xticklabels=set(y_test), yticklabels=set(y_test))\n",
    "plt.xlabel(\"Predicted Label\")\n",
    "plt.ylabel(\"True Label\")\n",
    "plt.title(\"Confusion Matrix - Logistic Regression\")\n",
    "plt.show()"
   ]
  },
  {
   "cell_type": "code",
   "execution_count": 11,
   "metadata": {},
   "outputs": [
    {
     "name": "stdout",
     "output_type": "stream",
     "text": [
      "== SVM ==\n",
      "SVM Accuracy: 0.9427\n",
      "SVM F1-Score: 0.9426\n",
      "SVM Precision: 0.9429\n",
      "SVM Recall: 0.9427\n",
      "\n",
      "Classification Report:\n",
      "               precision    recall  f1-score   support\n",
      "\n",
      "           0       0.98      0.97      0.98       114\n",
      "           1       0.93      0.89      0.91       118\n",
      "           2       0.93      0.94      0.94       117\n",
      "           3       0.93      0.97      0.95       105\n",
      "\n",
      "    accuracy                           0.94       454\n",
      "   macro avg       0.94      0.94      0.94       454\n",
      "weighted avg       0.94      0.94      0.94       454\n",
      "\n"
     ]
    },
    {
     "data": {
      "image/png": "[encoded data removed]",
      "text/plain": [
       "<Figure size 600x400 with 2 Axes>"
      ]
     },
     "metadata": {},
     "output_type": "display_data"
    }
   ],
   "source": [
    "# Prediksi menggunakan SVM\n",
    "y_pred_svm = models[\"SVM\"].predict(X_test_scaled)\n",
    "\n",
    "# Hitung metrik evaluasi\n",
    "accuracy = accuracy_score(y_test, y_pred_svm)\n",
    "f1 = f1_score(y_test, y_pred_svm, average='weighted')\n",
    "precision = precision_score(y_test, y_pred_svm, average='weighted')\n",
    "recall = recall_score(y_test, y_pred_svm, average='weighted')\n",
    "\n",
    "# Print hasil evaluasi\n",
    "print(\"== SVM ==\")\n",
    "print(f\"SVM Accuracy: {accuracy:.4f}\")\n",
    "print(f\"SVM F1-Score: {f1:.4f}\")\n",
    "print(f\"SVM Precision: {precision:.4f}\")\n",
    "print(f\"SVM Recall: {recall:.4f}\")\n",
    "print(\"\\nClassification Report:\\n\", classification_report(y_test, y_pred_svm))\n",
    "\n",
    "# Confusion Matrix\n",
    "plt.figure(figsize=(6,4))\n",
    "sns.heatmap(confusion_matrix(y_test, y_pred_svm), annot=True, fmt=\"d\", cmap=\"Blues\",\n",
    "            xticklabels=set(y_test), yticklabels=set(y_test))\n",
    "plt.xlabel(\"Predicted Label\")\n",
    "plt.ylabel(\"True Label\")\n",
    "plt.title(\"Confusion Matrix - SVM\")\n",
    "plt.show()"
   ]
  },
  {
   "cell_type": "code",
   "execution_count": 12,
   "metadata": {},
   "outputs": [
    {
     "name": "stdout",
     "output_type": "stream",
     "text": [
      "== Extra Trees ==\n",
      "Extra Trees Accuracy: 0.9912\n",
      "Extra Trees F1-Score: 0.9912\n",
      "Extra Trees Precision: 0.9912\n",
      "Extra Trees Recall: 0.9912\n",
      "\n",
      "Classification Report:\n",
      "               precision    recall  f1-score   support\n",
      "\n",
      "           0       0.99      1.00      1.00       114\n",
      "           1       0.99      0.98      0.99       118\n",
      "           2       1.00      0.99      1.00       117\n",
      "           3       0.98      0.99      0.99       105\n",
      "\n",
      "    accuracy                           0.99       454\n",
      "   macro avg       0.99      0.99      0.99       454\n",
      "weighted avg       0.99      0.99      0.99       454\n",
      "\n"
     ]
    },
    {
     "data": {
      "image/png": "[encoded data removed]",
      "text/plain": [
       "<Figure size 600x400 with 2 Axes>"
      ]
     },
     "metadata": {},
     "output_type": "display_data"
    }
   ],
   "source": [
    "# Prediksi menggunakan Extra Trees\n",
    "y_pred_et = models[\"Extra Trees\"].predict(X_test_scaled)\n",
    "\n",
    "# Hitung metrik evaluasi\n",
    "accuracy = accuracy_score(y_test, y_pred_et)\n",
    "f1 = f1_score(y_test, y_pred_et, average='weighted')\n",
    "precision = precision_score(y_test, y_pred_et, average='weighted')\n",
    "recall = recall_score(y_test, y_pred_et, average='weighted')\n",
    "\n",
    "# Print hasil evaluasi\n",
    "print(\"== Extra Trees ==\")\n",
    "print(f\"Extra Trees Accuracy: {accuracy:.4f}\")\n",
    "print(f\"Extra Trees F1-Score: {f1:.4f}\")\n",
    "print(f\"Extra Trees Precision: {precision:.4f}\")\n",
    "print(f\"Extra Trees Recall: {recall:.4f}\")\n",
    "print(\"\\nClassification Report:\\n\", classification_report(y_test, y_pred_et))\n",
    "\n",
    "# Confusion Matrix\n",
    "plt.figure(figsize=(6,4))\n",
    "sns.heatmap(confusion_matrix(y_test, y_pred_et), annot=True, fmt=\"d\", cmap=\"Blues\",\n",
    "            xticklabels=set(y_test), yticklabels=set(y_test))\n",
    "plt.xlabel(\"Predicted Label\")\n",
    "plt.ylabel(\"True Label\")\n",
    "plt.title(\"Confusion Matrix - Extra Trees\")\n",
    "plt.show()"
   ]
  },
  {
   "cell_type": "code",
   "execution_count": 13,
   "metadata": {},
   "outputs": [
    {
     "name": "stdout",
     "output_type": "stream",
     "text": [
      "== K-Nearest Neighbors ==\n",
      "KNN Accuracy: 0.7907\n",
      "KNN F1-Score: 0.7909\n",
      "KNN Precision: 0.7913\n",
      "KNN Recall: 0.7907\n",
      "\n",
      "Classification Report:\n",
      "               precision    recall  f1-score   support\n",
      "\n",
      "           0       0.84      0.85      0.85       114\n",
      "           1       0.74      0.76      0.75       118\n",
      "           2       0.73      0.72      0.72       117\n",
      "           3       0.86      0.84      0.85       105\n",
      "\n",
      "    accuracy                           0.79       454\n",
      "   macro avg       0.79      0.79      0.79       454\n",
      "weighted avg       0.79      0.79      0.79       454\n",
      "\n"
     ]
    },
    {
     "data": {
      "image/png": "[encoded data removed]",
      "text/plain": [
       "<Figure size 600x400 with 2 Axes>"
      ]
     },
     "metadata": {},
     "output_type": "display_data"
    }
   ],
   "source": [
    "# Prediksi menggunakan K-Nearest Neighbors\n",
    "y_pred_knn = models[\"K-Nearest Neighbors\"].predict(X_test_scaled)\n",
    "\n",
    "# Hitung metrik evaluasi\n",
    "accuracy = accuracy_score(y_test, y_pred_knn)\n",
    "f1 = f1_score(y_test, y_pred_knn, average='weighted')\n",
    "precision = precision_score(y_test, y_pred_knn, average='weighted')\n",
    "recall = recall_score(y_test, y_pred_knn, average='weighted')\n",
    "\n",
    "# Print hasil evaluasi\n",
    "print(\"== K-Nearest Neighbors ==\")\n",
    "print(f\"KNN Accuracy: {accuracy:.4f}\")\n",
    "print(f\"KNN F1-Score: {f1:.4f}\")\n",
    "print(f\"KNN Precision: {precision:.4f}\")\n",
    "print(f\"KNN Recall: {recall:.4f}\")\n",
    "print(\"\\nClassification Report:\\n\", classification_report(y_test, y_pred_knn))\n",
    "\n",
    "# Confusion Matrix\n",
    "plt.figure(figsize=(6,4))\n",
    "sns.heatmap(confusion_matrix(y_test, y_pred_knn), annot=True, fmt=\"d\", cmap=\"Blues\",\n",
    "            xticklabels=set(y_test), yticklabels=set(y_test))\n",
    "plt.xlabel(\"Predicted Label\")\n",
    "plt.ylabel(\"True Label\")\n",
    "plt.title(\"Confusion Matrix - KNN\")\n",
    "plt.show()"
   ]
  },
  {
   "cell_type": "code",
   "execution_count": 14,
   "metadata": {},
   "outputs": [
    {
     "name": "stdout",
     "output_type": "stream",
     "text": [
      "== Naïve Bayes ==\n",
      "Naïve Bayes Accuracy: 0.9956\n",
      "Naïve Bayes F1-Score: 0.9956\n",
      "Naïve Bayes Precision: 0.9956\n",
      "Naïve Bayes Recall: 0.9956\n",
      "\n",
      "Classification Report:\n",
      "               precision    recall  f1-score   support\n",
      "\n",
      "           0       1.00      1.00      1.00       114\n",
      "           1       0.99      0.99      0.99       118\n",
      "           2       0.99      0.99      0.99       117\n",
      "           3       1.00      1.00      1.00       105\n",
      "\n",
      "    accuracy                           1.00       454\n",
      "   macro avg       1.00      1.00      1.00       454\n",
      "weighted avg       1.00      1.00      1.00       454\n",
      "\n"
     ]
    },
    {
     "data": {
      "image/png": "[encoded data removed]",
      "text/plain": [
       "<Figure size 600x400 with 2 Axes>"
      ]
     },
     "metadata": {},
     "output_type": "display_data"
    }
   ],
   "source": [
    "# Prediksi menggunakan Naïve Bayes\n",
    "y_pred_nb = models[\"Naïve Bayes\"].predict(X_test_scaled)\n",
    "\n",
    "# Hitung metrik evaluasi\n",
    "accuracy = accuracy_score(y_test, y_pred_nb)\n",
    "f1 = f1_score(y_test, y_pred_nb, average='weighted')\n",
    "precision = precision_score(y_test, y_pred_nb, average='weighted')\n",
    "recall = recall_score(y_test, y_pred_nb, average='weighted')\n",
    "\n",
    "# Print hasil evaluasi\n",
    "print(\"== Naïve Bayes ==\")\n",
    "print(f\"Naïve Bayes Accuracy: {accuracy:.4f}\")\n",
    "print(f\"Naïve Bayes F1-Score: {f1:.4f}\")\n",
    "print(f\"Naïve Bayes Precision: {precision:.4f}\")\n",
    "print(f\"Naïve Bayes Recall: {recall:.4f}\")\n",
    "print(\"\\nClassification Report:\\n\", classification_report(y_test, y_pred_nb))\n",
    "\n",
    "# Confusion Matrix\n",
    "plt.figure(figsize=(6,4))\n",
    "sns.heatmap(confusion_matrix(y_test, y_pred_nb), annot=True, fmt=\"d\", cmap=\"Blues\",\n",
    "            xticklabels=set(y_test), yticklabels=set(y_test))\n",
    "plt.xlabel(\"Predicted Label\")\n",
    "plt.ylabel(\"True Label\")\n",
    "plt.title(\"Confusion Matrix - Naïve Bayes\")\n",
    "plt.show()"
   ]
  },
  {
   "cell_type": "markdown",
   "metadata": {
    "id": "H4_9OwrsXZlz"
   },
   "source": [
    "Tulis hasil evaluasi algoritma yang digunakan, jika Anda menggunakan 2 algoritma, maka bandingkan hasilnya."
   ]
  },
  {
   "cell_type": "code",
   "execution_count": 15,
   "metadata": {},
   "outputs": [
    {
     "name": "stdout",
     "output_type": "stream",
     "text": [
      "                 Model  Accuracy  Precision    Recall  F1-Score\n",
      "0  Logistic Regression  0.931718   0.932693  0.931718  0.931114\n",
      "1                  SVM  0.942731   0.942863  0.942731  0.942558\n",
      "2          Extra Trees  0.991189   0.991231  0.991189  0.991191\n",
      "3  K-Nearest Neighbors  0.790749   0.791310  0.790749  0.790916\n",
      "4          Naïve Bayes  0.995595   0.995595  0.995595  0.995595\n"
     ]
    }
   ],
   "source": [
    "# Buat dictionary untuk menyimpan hasil evaluasi\n",
    "results = []\n",
    "\n",
    "# Evaluasi setiap model\n",
    "for name, model in models.items():\n",
    "    # Prediksi\n",
    "    y_pred = model.predict(X_test_scaled)\n",
    "\n",
    "    # Hitung metrik evaluasi\n",
    "    accuracy = accuracy_score(y_test, y_pred)\n",
    "    precision = precision_score(y_test, y_pred, average='weighted', zero_division=1)\n",
    "    recall = recall_score(y_test, y_pred, average='weighted')\n",
    "    f1 = f1_score(y_test, y_pred, average='weighted')\n",
    "\n",
    "    # Simpan hasil evaluasi ke dalam list\n",
    "    results.append([name, accuracy, precision, recall, f1])\n",
    "\n",
    "# Buat DataFrame\n",
    "df_results = pd.DataFrame(results, columns=[\"Model\", \"Accuracy\", \"Precision\", \"Recall\", \"F1-Score\"])\n",
    "\n",
    "# Tampilkan hasil\n",
    "print(df_results)"
   ]
  },
  {
   "cell_type": "markdown",
   "metadata": {},
   "source": [
    "Berdasarkan hasil evaluasi, meskipun model lain seperti Naïve Bayes (99,56%) dan Logistic Regression (93,17%) menunjukkan akurasi tinggi, kami memilih K-Nearest Neighbors (KNN) dengan akurasi 79,07% karena kemungkinannya untuk mengalami overfitting lebih rendah. Dengan karakteristik ini, KNN lebih dapat diandalkan untuk generalisasi pada data baru. Selanjutnya, kami akan melakukan tuning model klasifikasi untuk meningkatkan performa tanpa mengorbankan kemampuan generalisasi."
   ]
  },
  {
   "cell_type": "markdown",
   "metadata": {
    "id": "ph9yIYDXEPuB"
   },
   "source": [
    "## **c. Tuning Model Klasifikasi (Optional)**"
   ]
  },
  {
   "cell_type": "markdown",
   "metadata": {
    "id": "-Bikx3LINv5e"
   },
   "source": [
    "Gunakan GridSearchCV, RandomizedSearchCV, atau metode lainnya untuk mencari kombinasi hyperparameter terbaik"
   ]
  },
  {
   "cell_type": "code",
   "execution_count": 16,
   "metadata": {
    "id": "winbFzb8NL95"
   },
   "outputs": [
    {
     "name": "stdout",
     "output_type": "stream",
     "text": [
      "Fitting 5 folds for each of 40 candidates, totalling 200 fits\n",
      "Best Parameters: {'metric': 'manhattan', 'n_neighbors': 23, 'weights': 'distance'}\n",
      "Train Set Accuracy: 0.8698141637368156\n",
      "Test Set Accuracy: 0.8766519823788547\n"
     ]
    }
   ],
   "source": [
    "# Split data\n",
    "X_train, X_test, y_train, y_test = train_test_split(X, y, test_size=0.2, random_state=42, stratify=y)\n",
    "\n",
    "# Scaling dengan RobustScaler untuk menangani outlier\n",
    "scaler = RobustScaler()\n",
    "X_train_scaled = scaler.fit_transform(X_train)\n",
    "X_test_scaled = scaler.transform(X_test)\n",
    "\n",
    "# Identifikasi dan hapus fitur konstan\n",
    "constant_features = np.var(X_train_scaled, axis=0) == 0\n",
    "X_train_scaled = X_train_scaled[:, ~constant_features]\n",
    "X_test_scaled = X_test_scaled[:, ~constant_features]\n",
    "\n",
    "# Feature Selection dengan mutual_info_classif\n",
    "selector = SelectKBest(mutual_info_classif, k=8)\n",
    "X_train_selected = selector.fit_transform(X_train_scaled, y_train)\n",
    "X_test_selected = selector.transform(X_test_scaled)\n",
    "\n",
    "# Hyperparameter tuning dengan GridSearchCV\n",
    "param_grid = {\n",
    "    'n_neighbors': [3, 5, 7, 9, 11, 13, 15, 17, 19, 23],  # Menambah variasi\n",
    "    'weights': ['uniform', 'distance'],    \n",
    "    'metric': ['euclidean', 'manhattan']\n",
    "}\n",
    "\n",
    "knn = KNeighborsClassifier()\n",
    "grid_search = GridSearchCV(knn, param_grid, cv=5, scoring='accuracy', n_jobs=-1, verbose=1)\n",
    "grid_search.fit(X_train_selected, y_train)\n",
    "\n",
    "# Model terbaik\n",
    "best_knn = grid_search.best_estimator_\n",
    "y_pred_knn = best_knn.predict(X_test_selected)\n",
    "accuracy = accuracy_score(y_test, y_pred_knn)\n",
    "\n",
    "# Output hasil tuning\n",
    "print(\"Best Parameters:\", grid_search.best_params_)\n",
    "print(\"Train Set Accuracy:\", grid_search.best_score_)\n",
    "print(\"Test Set Accuracy:\", accuracy)\n"
   ]
  },
  {
   "cell_type": "markdown",
   "metadata": {
    "id": "hE7pqlEPEYzI"
   },
   "source": [
    "## **d. Evaluasi Model Klasifikasi setelah Tuning (Optional)**"
   ]
  },
  {
   "cell_type": "markdown",
   "metadata": {
    "id": "feaPESoeN0zz"
   },
   "source": [
    "Berikut adalah rekomendasi tahapannya.\n",
    "1. Gunakan model dengan hyperparameter terbaik.\n",
    "2. Hitung ulang metrik evaluasi untuk melihat apakah ada peningkatan performa."
   ]
  },
  {
   "cell_type": "code",
   "execution_count": 17,
   "metadata": {
    "id": "HTXZRvEeNMb1"
   },
   "outputs": [
    {
     "name": "stdout",
     "output_type": "stream",
     "text": [
      "== KNN After Tuning ==\n",
      "KNN Accuracy: 0.8767\n",
      "KNN F1-Score: 0.8768\n",
      "KNN Precision: 0.8770\n",
      "KNN Recall: 0.8767\n",
      "\n",
      "Classification Report:\n",
      "               precision    recall  f1-score   support\n",
      "\n",
      "           0       0.93      0.92      0.93       114\n",
      "           1       0.84      0.83      0.83       118\n",
      "           2       0.84      0.86      0.85       117\n",
      "           3       0.90      0.90      0.90       105\n",
      "\n",
      "    accuracy                           0.88       454\n",
      "   macro avg       0.88      0.88      0.88       454\n",
      "weighted avg       0.88      0.88      0.88       454\n",
      "\n"
     ]
    },
    {
     "data": {
      "image/png": "[encoded data removed]",
      "text/plain": [
       "<Figure size 600x400 with 2 Axes>"
      ]
     },
     "metadata": {},
     "output_type": "display_data"
    }
   ],
   "source": [
    "# Menggunakan model terbaik dari hasil tuning\n",
    "best_knn = grid_search.best_estimator_ \n",
    "\n",
    "# Prediksi ulang pada test set dengan fitur hasil seleksi\n",
    "y_pred_knn_tuned = best_knn.predict(X_test_selected)\n",
    "\n",
    "# Hitung metrik evaluasi\n",
    "accuracy = accuracy_score(y_test, y_pred_knn_tuned)\n",
    "f1 = f1_score(y_test, y_pred_knn_tuned, average='weighted')\n",
    "precision = precision_score(y_test, y_pred_knn_tuned, average='weighted')\n",
    "recall = recall_score(y_test, y_pred_knn_tuned, average='weighted')\n",
    "\n",
    "# Print hasil evaluasi setelah tuning\n",
    "print(\"== KNN After Tuning ==\")\n",
    "print(f\"KNN Accuracy: {accuracy:.4f}\")\n",
    "print(f\"KNN F1-Score: {f1:.4f}\")\n",
    "print(f\"KNN Precision: {precision:.4f}\")\n",
    "print(f\"KNN Recall: {recall:.4f}\")\n",
    "print(\"\\nClassification Report:\\n\", classification_report(y_test, y_pred_knn_tuned))\n",
    "\n",
    "# Confusion Matrix\n",
    "plt.figure(figsize=(6,4))\n",
    "sns.heatmap(confusion_matrix(y_test, y_pred_knn_tuned), annot=True, fmt=\"d\", cmap=\"Blues\",\n",
    "            xticklabels=sorted(set(y_test)), yticklabels=sorted(set(y_test)))\n",
    "plt.xlabel(\"Predicted Label\")\n",
    "plt.ylabel(\"True Label\")\n",
    "plt.title(\"Confusion Matrix - KNN After Tuning\")\n",
    "plt.show()"
   ]
  },
  {
   "cell_type": "markdown",
   "metadata": {
    "id": "ZRsOdm4uEgAW"
   },
   "source": [
    "## **e. Analisis Hasil Evaluasi Model Klasifikasi**"
   ]
  },
  {
   "cell_type": "markdown",
   "metadata": {
    "id": "Hm3BhSi6N4_l"
   },
   "source": [
    "# Evaluasi Model K-Nearest Neighbors (KNN) Sebelum dan Sesudah Tuning\n",
    "\n",
    "## 1. Perbandingan Hasil Evaluasi Sebelum dan Sesudah Tuning\n",
    "\n",
    "### **Sebelum Tuning**\n",
    "**K-Nearest Neighbors (KNN)**\n",
    "- **Accuracy:** 79.07%  \n",
    "- **F1-Score:** 79.09%  \n",
    "- **Precision:** 79.13%  \n",
    "- **Recall:** 79.07%  \n",
    "\n",
    "#### **Classification Report:**\n",
    "|  | Precision | Recall | F1-Score | Support |\n",
    "|-------|-----------|--------|---------|---------|\n",
    "| **0** | 84% | 85% | 85% | 114 |\n",
    "| **1** | 74% | 76% | 75% | 118 |\n",
    "| **2** | 73% | 72% | 72% | 117 |\n",
    "| **3** | 86% | 84% | 85% | 105 |\n",
    "\n",
    "- **Overall Accuracy:** 79% (454 data)\n",
    "- **Macro Avg:** Precision 79%, Recall 79%, F1-Score 79%\n",
    "- **Weighted Avg:** Precision 79%, Recall 79%, F1-Score 79%\n",
    "\n",
    "---\n",
    "\n",
    "### **Setelah Tuning**\n",
    "**KNN After Tuning**\n",
    "- **Accuracy:** 87.67%  \n",
    "- **F1-Score:** 87.68%  \n",
    "- **Precision:** 87.70%  \n",
    "- **Recall:** 87.67%  \n",
    "\n",
    "#### **Classification Report:**\n",
    "|  | Precision | Recall | F1-Score | Support |\n",
    "|-------|-----------|--------|---------|---------|\n",
    "| **0** | 93% | 92% | 93% | 114 |\n",
    "| **1** | 84% | 83% | 83% | 118 |\n",
    "| **2** | 84% | 86% | 85% | 117 |\n",
    "| **3** | 90% | 90% | 90% | 105 |\n",
    "\n",
    "- **Overall Accuracy:** 88% (454 data)\n",
    "- **Macro Avg:** Precision 88%, Recall 88%, F1-Score 88%\n",
    "- **Weighted Avg:** Precision 88%, Recall 88%, F1-Score 88%\n",
    "\n",
    "---\n",
    "\n",
    "### **Kesimpulan**  \n",
    "Setelah tuning, akurasi meningkat dari **79.07% → 87.67%** (**+8.6%**).  \n",
    "Peningkatan ini menunjukkan bahwa model lebih baik dalam mengklasifikasikan semua kelas dengan lebih seimbang, terutama pada **precision dan recall** yang meningkat di semua kategori.\n",
    "\n",
    "---\n",
    "\n",
    "## 2. Identifikasi Kelemahan Model  \n",
    "\n",
    "### **Perbandingan dengan Model Lain**  \n",
    "- **Dibandingkan dengan Random Forest dan SVM**, KNN masih memiliki akurasi yang lebih rendah.  \n",
    "- **Kelemahan utama KNN** adalah performa yang lebih lambat pada dataset besar karena harus menghitung jarak ke semua tetangga untuk setiap prediksi.  \n",
    "- **Recall untuk kelas 1 dan 2 masih lebih rendah** dibanding model lain, menunjukkan bahwa model ini masih kurang baik dalam mengklasifikasikan beberapa kategori tertentu.  \n",
    "\n",
    "---\n",
    "\n",
    "## 3. Rekomendasi Tindakan Lanjutan  \n",
    "\n",
    "1. **Coba Model Lain**: Menggunakan **Random Forest atau SVM** dapat memberikan hasil lebih baik karena lebih robust terhadap variasi data.  \n",
    "2. **Feature Engineering**: Menganalisis apakah ada fitur yang kurang relevan atau mencoba teknik seleksi fitur yang berbeda.  \n",
    "3. **Penyesuaian Parameter Lebih Lanjut**: Eksperimen dengan lebih banyak kombinasi hyperparameter untuk melihat apakah ada peningkatan performa.  \n",
    "4. **Coba Dataset Lebih Besar**: KNN cenderung lebih sensitif terhadap ukuran dataset. Menggunakan lebih banyak data pelatihan dapat membantu meningkatkan performa.  \n",
    "\n",
    "Dengan perbaikan ini, diharapkan model dapat memberikan hasil yang lebih optimal untuk klasifikasi data."
   ]
  },
  {
   "cell_type": "code",
   "execution_count": null,
   "metadata": {},
   "outputs": [],
   "source": []
  },
  {
   "cell_type": "code",
   "execution_count": null,
   "metadata": {},
   "outputs": [],
   "source": []
  }
 ],
 "metadata": {
  "colab": {
   "provenance": []
  },
  "kernelspec": {
   "display_name": "Python 3 (ipykernel)",
   "language": "python",
   "name": "python3"
  },
  "language_info": {
   "codemirror_mode": {
    "name": "ipython",
    "version": 3
   },
   "file_extension": ".py",
   "mimetype": "text/x-python",
   "name": "python",
   "nbconvert_exporter": "python",
   "pygments_lexer": "ipython3",
   "version": "3.9.6"
  }
 },
 "nbformat": 4,
 "nbformat_minor": 4
}
